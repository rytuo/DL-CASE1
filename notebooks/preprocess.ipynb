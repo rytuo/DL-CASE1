{
 "cells": [
  {
   "cell_type": "code",
   "execution_count": 1,
   "metadata": {},
   "outputs": [
    {
     "name": "stdout",
     "output_type": "stream",
     "text": [
      "Requirement already satisfied: numpy in /Users/alv.popov/prj/DL-CASE1/venv/lib/python3.11/site-packages (1.26.2)\n"
     ]
    }
   ],
   "source": [
    "!pip install numpy"
   ]
  },
  {
   "cell_type": "code",
   "execution_count": 10,
   "metadata": {},
   "outputs": [
    {
     "name": "stdout",
     "output_type": "stream",
     "text": [
      "9873 1974\n",
      "1970\n",
      "Copy test\n",
      "Copy train\n"
     ]
    }
   ],
   "source": [
    "import os\n",
    "import numpy as np\n",
    "import shutil\n",
    "\n",
    "rng = np.random.default_rng()\n",
    "\n",
    "root_folder = '/Users/alv.popov/prj/DL-CASE1'\n",
    "data_folder = os.path.join(root_folder, 'data')\n",
    "raw_data_folder = os.path.join(root_folder, 'raw-data')\n",
    "annotations_file = os.path.join(raw_data_folder, 'annotations.txt')\n",
    "images_folder = os.path.join(raw_data_folder, 'images')\n",
    "\n",
    "def train_test_split():\n",
    "    image_names = os.listdir(images_folder)\n",
    "    rng.shuffle(image_names)\n",
    "    ind = len(image_names) // 5\n",
    "    print(len(image_names), ind)\n",
    "\n",
    "    image_info = dict()\n",
    "    with open(annotations_file, 'r') as f:\n",
    "        for line in f:\n",
    "            filename = line.split(':')[0]\n",
    "            image_info[filename] = line\n",
    "    print(len(image_info))\n",
    "\n",
    "    def copy(tag, items):\n",
    "        print(f\"Copy {tag}\")\n",
    "        items_info = []\n",
    "        to_dir = os.path.join(data_folder, tag)\n",
    "        if not os.path.isdir(to_dir):\n",
    "            os.mkdir(to_dir)\n",
    "        to_img_dir = os.path.join(to_dir, 'img')\n",
    "        if not os.path.isdir(to_img_dir):\n",
    "            os.mkdir(to_img_dir)\n",
    "        for filename in items:\n",
    "            shutil.copy(os.path.join(images_folder, filename), to_img_dir)\n",
    "            if filename in image_info:\n",
    "                items_info.append(image_info[filename])\n",
    "        with open(os.path.join(to_dir, 'annotations.txt'), 'w') as f:\n",
    "            f.write(''.join(items_info))\n",
    "\n",
    "    copy('test', image_names[ind:])\n",
    "    copy('train', image_names[:ind])\n",
    "\n",
    "train_test_split()"
   ]
  },
  {
   "cell_type": "code",
   "execution_count": null,
   "metadata": {},
   "outputs": [],
   "source": []
  }
 ],
 "metadata": {
  "kernelspec": {
   "display_name": "venv",
   "language": "python",
   "name": "python3"
  },
  "language_info": {
   "codemirror_mode": {
    "name": "ipython",
    "version": 3
   },
   "file_extension": ".py",
   "mimetype": "text/x-python",
   "name": "python",
   "nbconvert_exporter": "python",
   "pygments_lexer": "ipython3",
   "version": "3.11.6"
  }
 },
 "nbformat": 4,
 "nbformat_minor": 2
}
