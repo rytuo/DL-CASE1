{
 "cells": [
  {
   "cell_type": "code",
   "execution_count": 1,
   "id": "9932cf6d-4129-4de4-8eea-1bd9bd11ef53",
   "metadata": {},
   "outputs": [],
   "source": [
    "import os\n",
    "import random\n",
    "import shutil\n",
    "\n",
    "def split_train_test(input_folder, train_folder, test_folder, split_ratio=0.8):\n",
    "    if not os.path.exists(train_folder):\n",
    "        os.makedirs(train_folder)\n",
    "    if not os.path.exists(test_folder):\n",
    "        os.makedirs(test_folder)\n",
    "\n",
    "    file_list = os.listdir(input_folder)\n",
    "    random.shuffle(file_list)\n",
    "    split_index = int(len(file_list) * split_ratio)\n",
    "\n",
    "    train_files = file_list[:split_index]\n",
    "    test_files = file_list[split_index:]\n",
    "\n",
    "    for file_name in train_files:\n",
    "        full_file_path = os.path.join(input_folder, file_name)\n",
    "        shutil.copy(full_file_path, os.path.join(train_folder, file_name))\n",
    "\n",
    "    for file_name in test_files:\n",
    "        full_file_path = os.path.join(input_folder, file_name)\n",
    "        shutil.copy(full_file_path, os.path.join(test_folder, file_name))\n",
    "\n",
    "input_folder = r'C:\\Users\\1\\Desktop\\сase1\\set1'\n",
    "train_folder = r'C:\\Users\\1\\Desktop\\сase1\\set1train'\n",
    "test_folder = r'C:\\Users\\1\\Desktop\\сase1\\set1test'\n",
    "\n",
    "split_train_test(input_folder, train_folder, test_folder, split_ratio=0.8)"
   ]
  },
  {
   "cell_type": "code",
   "execution_count": 2,
   "id": "3823cdb0-df43-4063-9c1e-6c1000b63383",
   "metadata": {},
   "outputs": [
    {
     "data": {
      "text/plain": [
       "'C:\\\\Users\\\\1\\\\Desktop\\\\сase1\\\\set1test\\\\test_annotations.txt'"
      ]
     },
     "execution_count": 2,
     "metadata": {},
     "output_type": "execute_result"
    }
   ],
   "source": [
    "annotation_file = r'C:\\Users\\1\\Desktop\\сase1\\annotations.txt'\n",
    "\n",
    "train_annotation_file = 'train_annotations.txt'\n",
    "test_annotation_file = 'test_annotations.txt'\n",
    "\n",
    "train_image_files = os.listdir(train_folder)\n",
    "test_image_files = os.listdir(test_folder)\n",
    "\n",
    "with open(annotation_file, 'r') as annot_file, \\\n",
    "        open(train_annotation_file, 'w') as train_annot_file, \\\n",
    "        open(test_annotation_file, 'w') as test_annot_file:\n",
    "\n",
    "    for line in annot_file:\n",
    "        image_name = line.split(':')[0]\n",
    "\n",
    "        if image_name in train_image_files:\n",
    "            train_annot_file.write(line)\n",
    "        elif image_name in test_image_files:\n",
    "            test_annot_file.write(line)\n",
    "\n",
    "shutil.move(train_annotation_file, os.path.join(train_folder, train_annotation_file))\n",
    "shutil.move(test_annotation_file, os.path.join(test_folder, test_annotation_file))"
   ]
  },
  {
   "cell_type": "code",
   "execution_count": null,
   "id": "a0b9a2c9-6681-4ec9-835e-029ef6af9d3b",
   "metadata": {},
   "outputs": [],
   "source": []
  }
 ],
 "metadata": {
  "kernelspec": {
   "display_name": "Python 3 (ipykernel)",
   "language": "python",
   "name": "python3"
  },
  "language_info": {
   "codemirror_mode": {
    "name": "ipython",
    "version": 3
   },
   "file_extension": ".py",
   "mimetype": "text/x-python",
   "name": "python",
   "nbconvert_exporter": "python",
   "pygments_lexer": "ipython3",
   "version": "3.9.18"
  }
 },
 "nbformat": 4,
 "nbformat_minor": 5
}
